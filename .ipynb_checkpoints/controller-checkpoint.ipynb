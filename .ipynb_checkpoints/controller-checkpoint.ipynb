{
 "cells": [
  {
   "cell_type": "code",
   "execution_count": null,
   "id": "2d4c2f8d",
   "metadata": {},
   "outputs": [],
   "source": [
    "import pyfirmata\n",
    "\n",
    "comport='COM6'\n",
    "\n",
    "board=pyfirmata.Arduino(comport)\n",
    "\n",
    "led_1=board.get_pin('d:13:o')\n",
    "led_2=board.get_pin('d:12:o')\n",
    "led_3=board.get_pin('d:11:o')\n",
    "led_4=board.get_pin('d:10:o')\n",
    "led_5=board.get_pin('d:9:o')\n",
    "\n",
    "def led(total):\n",
    "    if total==0:\n",
    "        led_1.write(0)\n",
    "        led_2.write(0)\n",
    "        led_3.write(0)\n",
    "        led_4.write(0)\n",
    "        led_5.write(0)\n",
    "    elif total==1:\n",
    "        led_1.write(1)\n",
    "        led_2.write(0)\n",
    "        led_3.write(0)\n",
    "        led_4.write(0)\n",
    "        led_5.write(0)\n",
    "    elif total==2:\n",
    "        led_1.write(1)\n",
    "        led_2.write(1)\n",
    "        led_3.write(0)\n",
    "        led_4.write(0)\n",
    "        led_5.write(0)\n",
    "    elif total==3:\n",
    "        led_1.write(1)\n",
    "        led_2.write(1)\n",
    "        led_3.write(1)\n",
    "        led_4.write(0)\n",
    "        led_5.write(0)\n",
    "    elif total==4:\n",
    "        led_1.write(1)\n",
    "        led_2.write(1)\n",
    "        led_3.write(1)\n",
    "        led_4.write(1)\n",
    "        led_5.write(0)\n",
    "    elif total==5:\n",
    "        led_1.write(1)\n",
    "        led_2.write(1)\n",
    "        led_3.write(1)\n",
    "        led_4.write(1)\n",
    "        led_5.write(1)\n"
   ]
  }
 ],
 "metadata": {
  "kernelspec": {
   "display_name": "Python 3 (ipykernel)",
   "language": "python",
   "name": "python3"
  },
  "language_info": {
   "codemirror_mode": {
    "name": "ipython",
    "version": 3
   },
   "file_extension": ".py",
   "mimetype": "text/x-python",
   "name": "python",
   "nbconvert_exporter": "python",
   "pygments_lexer": "ipython3",
   "version": "3.9.13"
  }
 },
 "nbformat": 4,
 "nbformat_minor": 5
}
